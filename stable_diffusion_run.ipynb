{
  "cells": [
    {
      "cell_type": "markdown",
      "metadata": {
        "id": "view-in-github",
        "colab_type": "text"
      },
      "source": [
        "<a href=\"https://colab.research.google.com/github/bulieme/stable-diffusion-webui-colab-gdrive/blob/main/stable_diffusion_run.ipynb\" target=\"_parent\"><img src=\"https://colab.research.google.com/assets/colab-badge.svg\" alt=\"Open In Colab\"/></a>"
      ]
    },
    {
      "cell_type": "markdown",
      "source": [
        "# Stable diffusion in Google drive\n",
        "*Based on **camenduru's stable_diffusion_1_5_webui_colab.ipynb**.*\n",
        "\n",
        "The purpose of this colab is to run stable diffusion that is inside on your google drive and run them in colab.\n",
        "\n",
        "So you dont have to lost all of your images and models!"
      ],
      "metadata": {
        "id": "MihC84TFyhjZ"
      }
    },
    {
      "cell_type": "code",
      "source": [
        "#@title Check GPU (Optional)\n",
        "#@markdown Check your GPU. (If you need it).\n",
        "!nvidia-smi"
      ],
      "metadata": {
        "cellView": "form",
        "id": "HYKJvFAy4gsM"
      },
      "execution_count": null,
      "outputs": []
    },
    {
      "cell_type": "markdown",
      "source": [
        "#Initialize\n",
        "Mount and install dependencies"
      ],
      "metadata": {
        "id": "TllcFpBN6mlx"
      }
    },
    {
      "cell_type": "code",
      "source": [
        "#@markdown Mount Google drive\n",
        "from google.colab import drive\n",
        "gdrive_path = '/content/drive'\n",
        "drive.mount(gdrive_path)\n",
        "mydrive_path = f\"{gdrive_path}/MyDrive\"\n"
      ],
      "metadata": {
        "cellView": "form",
        "id": "oCgL2qtywH9c"
      },
      "execution_count": null,
      "outputs": []
    },
    {
      "cell_type": "code",
      "source": [
        "#@title Installing dependecies and import\n",
        "!apt-get -y install -qq aria2\n",
        "!pip install -q https://github.com/camenduru/stable-diffusion-webui-colab/releases/download/0.0.16/xformers-0.0.16+814314d.d20230118-cp38-cp38-linux_x86_64.whl\n",
        "!pip install -q --pre triton\n",
        "import os"
      ],
      "metadata": {
        "cellView": "form",
        "id": "7IKmm_6Lv24A"
      },
      "execution_count": null,
      "outputs": []
    },
    {
      "cell_type": "markdown",
      "source": [
        "#Clone and run\n",
        "This step will clone the webui to your google drive and run them "
      ],
      "metadata": {
        "id": "I4nqKx-Y61SL"
      }
    },
    {
      "cell_type": "code",
      "source": [
        "%cd $mydrive_path\n",
        "if os.path.exists(f\"{mydrive_path}/stable-diffusion-webui\"):\n",
        "  !git clone -b v1.6 https://github.com/camenduru/stable-diffusion-webui\n",
        "  !wget https://raw.githubusercontent.com/camenduru/stable-diffusion-webui-scripts/main/run_n_times.py -O {mydrive_path}/stable-diffusion-webui/scripts/run_n_times.py\n",
        "  !git clone -b v1.6 https://github.com/camenduru/deforum-for-automatic1111-webui {mydrive_path}/stable-diffusion-webui/extensions/deforum-for-automatic1111-webui\n",
        "  !git clone -b v1.6 https://github.com/camenduru/stable-diffusion-webui-images-browser {mydrive_path}/stable-diffusion-webui/extensions/stable-diffusion-webui-images-browser\n",
        "  !git clone -b v1.6 https://github.com/camenduru/stable-diffusion-webui-huggingface {mydrive_path}/stable-diffusion-webui/extensions/stable-diffusion-webui-huggingface\n",
        "  !git clone -b v1.6 https://github.com/camenduru/sd-civitai-browser {mydrive_path}/stable-diffusion-webui/extensions/sd-civitai-browser\n",
        "  !git clone -b v1.6 https://github.com/camenduru/sd-webui-additional-networks {mydrive_path}/stable-diffusion-webui/extensions/sd-webui-additional-networks\n",
        "  %cd {mydrive_path}/stable-diffusion-webui\n",
        "else:\n",
        "  print(\"stable diffusion already cloned.\")"
      ],
      "metadata": {
        "id": "9Bi2G3dD-c9C"
      },
      "execution_count": null,
      "outputs": []
    },
    {
      "cell_type": "code",
      "execution_count": null,
      "metadata": {
        "id": "SaAJk33ppFw1"
      },
      "outputs": [],
      "source": [
        "!sed -i -e '''/prepare_environment()/a\\    os.system\\(f\\\"\"\"sed -i -e ''\\\"s/self.logvar\\\\[t\\\\]/self.logvar\\\\[t.item()\\\\]/g\\\"'' /content/stable-diffusion-webui/repositories/stable-diffusion-stability-ai/ldm/models/diffusion/ddpm.py\"\"\")''' /content/stable-diffusion-webui/launch.py\n",
        "!sed -i -e '''/prepare_environment()/a\\    os.system\\(f\\\"\"\"sed -i -e ''\\\"s/dict()))/dict())).cuda()/g\\\"'' /content/stable-diffusion-webui/repositories/stable-diffusion-stability-ai/ldm/util.py\"\"\")''' /content/stable-diffusion-webui/launch.py\n",
        "!sed -i '$a fastapi==0.90.0' requirements_versions.txt\n",
        "!python launch.py --share --xformers --enable-insecure-extension-access"
      ]
    }
  ],
  "metadata": {
    "accelerator": "GPU",
    "colab": {
      "private_outputs": true,
      "provenance": [],
      "include_colab_link": true
    },
    "gpuClass": "standard",
    "kernelspec": {
      "display_name": "Python 3",
      "name": "python3"
    },
    "language_info": {
      "name": "python"
    }
  },
  "nbformat": 4,
  "nbformat_minor": 0
}